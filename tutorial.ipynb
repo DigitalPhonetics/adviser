{
 "cells": [
  {
   "cell_type": "markdown",
   "metadata": {},
   "source": [
    "# ADVISER Tutorial\n",
    "\n",
    "In this tutorial, you will learn\n",
    "1. how to install and run the ADVISER dialog system\n",
    "2. how to build custom modules\n",
    "3. how to combine modules into a functional dialog system"
   ]
  },
  {
   "cell_type": "markdown",
   "metadata": {},
   "source": [
    "## Installation\n",
    "\n",
    "ADVISER needs to be executed in a python3 environment.\n",
    "\n",
    "After downloading the code, navigate to the top level directory.\n",
    "It should contain a _requirements.txt_ file which lists all requirements you need to install in order to run ADVISER.\n",
    "You can do this by creating a virtual environment by executing the following commands from the top level directory:\n",
    "1. Make sure you have virtualenv installed by executing\n",
    "```sh\n",
    "python3 -m pip install --user virtualenv\n",
    "```\n",
    "2. Create the virtual environment (replace _envname_ with a name of your choice)\n",
    "```sh\n",
    "python3 -m venv envname\n",
    "```\n",
    "3. Source the environment (this has to be repeated every time you want to use ADVISER inside a new terminal session)\n",
    "```sh\n",
    "source envname/bin/activate\n",
    "```\n",
    "4. Install the required packages\n",
    "```sh\n",
    "pip install -r requirements.txt\n",
    "```\n",
    "\n",
    "5. To make sure your installation is working, navigate to the *advidser* folder:\n",
    "```sh\n",
    "cd adviser\n",
    "```\n",
    "and execute \n",
    "```python\n",
    "python run_chat.py --domain restaurants\n",
    "```\n",
    "\n",
    "6. To end your conversation, type `bye`."
   ]
  },
  {
   "cell_type": "markdown",
   "metadata": {},
   "source": [
    "## Default modules"
   ]
  },
  {
   "cell_type": "markdown",
   "metadata": {},
   "source": [
    "ADVISER comes with reference implementations for all typical dialog system components:\n",
    "\n",
    "\n",
    "* **modules.nlu.nlu**: \n",
    "An implementation for a Natural Language Understanding Unit (NLU) based on regular expressions.\n",
    "It takes a natural language utterance string as input and parses it into user actions.\n",
    "User actions carry the following important information:\n",
    "    * user action type: describes the generic action type (e.g. if the user informs about sth., if they request sth., ...)\n",
    "    * slot: the ontology slot name corresponding to the action (e.g. the user could inform about food type)\n",
    "    * value: the value the user mentioned for this slot (e.g. italian food, or no value if they requested the food type instead of informing about it) \n",
    "  \n",
    "\n",
    "\n",
    "* **modules.bst.bst**: \n",
    "Simple Belief State Tracker (BST) which keeps track of the values/requests given by the user and updates the appropriate discourse acts the user action corresponds to. \n",
    "Requests are reset after each turn. \n",
    "If the user actions provide confidence scores in (0,1), the probabilities for each slot will be normalized.\n",
    "\n",
    "\n",
    "* **modules.policy.policy_handcrafted**:\n",
    "A handcrafted policy implementation. \n",
    "Its purpose is to choose a fitting system action according to the current belief state.\n",
    "Output is a list of system actions which carry information similar to the user actions:\n",
    "    * system action type\n",
    "    * slot\n",
    "    * list of values for each slot (note that this is a difference to the user actions, because actions like `select` need to offer multiple values for one slot to the user\n",
    "\n",
    "\n",
    "* **modules.nlg.nlg**:\n",
    "Converts system actions into natural language to be more readable by the user."
   ]
  },
  {
   "cell_type": "markdown",
   "metadata": {},
   "source": [
    "## Implementing your own modules"
   ]
  },
  {
   "cell_type": "markdown",
   "metadata": {},
   "source": [
    "All dialog system components inherit from the base class **modules.module.Module**.\n",
    "Most modules depend on the dialog domain, e.g. restaurants or hotels which can be assigned via the constructor.\n",
    "\n",
    "For illustration purposes, consider this slightly shortened version:"
   ]
  },
  {
   "cell_type": "code",
   "execution_count": null,
   "metadata": {},
   "outputs": [],
   "source": [
    "from utils.logger import DiasysLogger\n",
    "\n",
    "class Module(object):\n",
    "    def __init__(self, domain, subgraph: dict = None, logger : DiasysLogger = DiasysLogger()):\n",
    "        self.domain = domain\n",
    "        self.is_training = False\n",
    "        # ...\n",
    "\n",
    "    def forward(self, dialog_graph, **kwargs):\n",
    "        raise NotImplementedError\n",
    "\n",
    "    def start_dialog(self, **kwargs):\n",
    "        return {}\n",
    "\n",
    "    def end_dialog(self, sim_goal):\n",
    "        pass\n",
    "    \n",
    "    def train(self):\n",
    "        self.is_training = True\n",
    "        if self.subgraph is not None:\n",
    "            for module_name in self.subgraph:\n",
    "                self.subgraph[module_name].train()\n",
    "\n",
    "    def eval(self):\n",
    "        self.is_training = False\n",
    "        if self.subgraph is not None:\n",
    "            for module_name in self.subgraph:\n",
    "                self.subgraph[module_name].eval()   "
   ]
  },
  {
   "cell_type": "markdown",
   "metadata": {},
   "source": [
    "To implement your own module,\n",
    "start by creating a new class which inherits from **modules.module.Module** and calling the constructor of the parent class (this is important!):"
   ]
  },
  {
   "cell_type": "code",
   "execution_count": null,
   "metadata": {},
   "outputs": [],
   "source": [
    "from modules.module import Module\n",
    "\n",
    "class MyCustomNLU(Module):\n",
    "    def __init__(self, domains, subgraph : dict = None):\n",
    "        super(MyCustomModule, self).__init__(domains, subgraph=subgraph)"
   ]
  },
  {
   "cell_type": "markdown",
   "metadata": {},
   "source": [
    "Processing a dialog follows this procedure for every module in the dialog graph:\n",
    "\n",
    "1. Before the user or sytem take their first turn, *start_dialog* is called. This is the place to initialize variables needed for a new dialog.\n",
    "2. *forward* will be called until the dialog is completed (either system or user ended the dialog, e.g. by saying 'bye', or the maximum amount of turns was reached). Typically, one forward pass of the dialog system includes a  system turn as well as the user turn.\n",
    "3. After the dialog finished, successful or not, *end_dialog* is called. You can use this to reset variables between dialogs and/or do logging, calculate dialog-level metrics, etc.\n",
    "\n",
    "While overriding *start_dialog*/*end_dialog* is not required,\n",
    "**overriding the _forward()_ method is neccessary for any module**.\n",
    "Make sure to include the `**kwargs` parameter and that required inputs provide a default value.\n",
    "\n",
    "It is your responsibility to ensure that all required information for the forward functions in your dialog graph is available.\n",
    "To see the required inputs, look at the code or documentation for each used module's forward function.\n",
    "As an example, let's look at the handcrafted belief state tracker's forward function:"
   ]
  },
  {
   "cell_type": "code",
   "execution_count": null,
   "metadata": {},
   "outputs": [],
   "source": [
    "from typing import List\n",
    "from utils.useract import UserAct\n",
    "from utils.sysact import SysAct\n",
    "from utils.beliefstate import BeliefState\n",
    "\n",
    "# handcrafted belief state tracker forward function signature\n",
    "def forward(self, \n",
    "            dialog_graph,                     # <-- required default parameter, access to the whole dialogsystem\n",
    "            user_acts: List[UserAct] = None,  # <-- output from the NLU: a list of user actions\n",
    "            beliefstate: BeliefState = None,  # <-- current beliefstate object \n",
    "            sys_act: List[SysAct] = None,     # <-- output from the policy: a list of system actions (e.g. from the last turn if you have the module order NLU -> BST -> POLICY)\n",
    "            **kwargs\n",
    "           ) -> dict(beliefstate=BeliefState): # <-- required output, has to be a dictionary! \n",
    "        \n",
    "        # ...\n",
    "        # process user and system acitons, update belief state accordingly\n",
    "        # ...\n",
    "        \n",
    "        return {'beliefstate': beliefstate}   # <-- return value encapsulated in dictionary"
   ]
  },
  {
   "cell_type": "markdown",
   "metadata": {},
   "source": [
    "As is shown in the code snippet above, return values have to be dictionaries.\n",
    "This is so that return values can be mapped to named function arguments of other forward functions of modules in the dialog graph.\n",
    "\n",
    "Going into more detail, the dialog sytem manages a dictionary.\n",
    "When calling *start_dialog*, initial values are written into this dictionary.\n",
    "Each time a module's *forward* function is called, the dialog system checks if values for the input names of this module are available in the dictionary - if so, they will be passed to the function call - if not, the default values provided in the function definition will be used.\n",
    "The return values of this function will then be inserted into the dictionary (or updated, if already present).\n",
    "After a dialog is completed, the dictionary will be emptied again.\n",
    "\n",
    "To illustrate this, let's look at an example (feel free to check the existing modules' codes to get a better understanding of this mechanism - they are located in the `adviser/modules` directory and subdirectories):\n",
    "\n",
    "Imagine the dialog system's dicionary is empty in the beginning:\n",
    "```python\n",
    "{}\n",
    "```\n",
    "A user input module which reads user input from the terminal does not require any input. \n",
    "Inside its *forward* function, it reads user input from the terminal and returns it as \n",
    "```python\n",
    "def forward(self, dialog_graph, **kwargs):\n",
    "    user_input = input(\"User input > \")\n",
    "    return {'user_utterance': user_input}\n",
    "```\n",
    "Suppose the user enters the phrase\n",
    "*I am looking for an italian restaurant*.\n",
    "The dialog system's dictionary now looks like this:\n",
    "```python\n",
    "{'user_utterance': 'I am looking for an italian restaurant'}\n",
    "```\n",
    "The NLU now processes a user utterance and tries to extract the user actions from it.\n",
    "It will therefore require *user_utterance* as input and return the parsed user actions:\n",
    "```python\n",
    "def forward(self, dialog_graph, user_utterance : str = '', **kwargs):\n",
    "    usr_acts = []\n",
    "    if 'italian' in user_utterance:\n",
    "        user_acts.append(UserAct(act_type=UserActionType.Inform, slot='food', value='italian'))\n",
    "    return {'user_acts': usr_acts}\n",
    "```\n",
    "The dialog sytem's dictionary is now going to look like this:\n",
    "```python\n",
    "{\n",
    " 'user_utterance': 'I am looking for an italian restaurant',\n",
    " 'user_acts': UserAct(act_type=UserActionType.Inform, slot='food', value='italian')\n",
    "}\n",
    "```\n",
    "The BST then consumes the *user_acts* from this dictionary, etc.\n",
    "\n",
    "A final view of our custom NLU class:"
   ]
  },
  {
   "cell_type": "code",
   "execution_count": null,
   "metadata": {},
   "outputs": [],
   "source": [
    "from modules.module import Module\n",
    "from utils.useract import UserActionType\n",
    "\n",
    "class MyCustomNLU(Module):\n",
    "    def __init__(self, domain, subgraph : dict = None):\n",
    "        super(MyCustomNLU, self).__init__(domain, subgraph=subgraph)\n",
    "        \n",
    "    def forward(self, dialog_graph, user_utterance : str = '', **kwargs):\n",
    "        user_acts = []\n",
    "        if 'italian' in user_utterance:\n",
    "            user_acts.append(UserAct(act_type=UserActionType.Inform, slot='food', value='italian'))\n",
    "        return {'user_acts': user_acts}"
   ]
  },
  {
   "cell_type": "markdown",
   "metadata": {},
   "source": [
    "\n",
    "\n",
    "_train()_ and _eval()_ can be used to tell trainable modules how they should behave, either by overwriting these methods or by querying the _is__training_-member.\n",
    "For example, if you want to train a policy, make sure to call _train()_ before simulating dialogs - but to evaluate final performance or chat with the system, you don't want the policy to change further, which is done by calling _eval()_."
   ]
  },
  {
   "cell_type": "markdown",
   "metadata": {},
   "source": [
    "Time to test our new custom NLU with the restaurant domain (it should output an inform action for italian food):"
   ]
  },
  {
   "cell_type": "code",
   "execution_count": null,
   "metadata": {},
   "outputs": [],
   "source": [
    "import os\n",
    "from utils.domain.jsonlookupdomain import JSONLookupDomain\n",
    "\n",
    "# initialize restaurant domain and our custom NLU module\n",
    "domain = JSONLookupDomain(name='ImsCourses')\n",
    "mynlu = MyCustomNLU(domain=domain)\n",
    "\n",
    "user_input = \"i like italian food\"                                   # test input\n",
    "result = mynlu.forward(dialog_graph=None, user_utterance=user_input) # process input\n",
    "print(result)"
   ]
  },
  {
   "cell_type": "markdown",
   "metadata": {},
   "source": [
    "## Logging"
   ]
  },
  {
   "cell_type": "markdown",
   "metadata": {},
   "source": [
    "If you want to record information from certain modules or whole dialogs,\n",
    "you can make use of the built-in logger module.\n",
    "It expands on python's logging module, but you still can use all of the python logger methods.\n",
    "\n",
    "The different log levels (listed in increasing priority):\n",
    "* DIALOGS - record whole dialogs\n",
    "* RESULTS - record only results of each dialog (e.g. successfull / not successfull)\n",
    "* INFO    - only log module informatoin\n",
    "* ERRORS  - only log errors\n",
    "* NONE    - don't log anything\n",
    "Each log level will also log all information from log levels with lesser priority, e.g. logging results will also log infos and errors.\n",
    "\n",
    "You can also configure the output of the logger, either logging to \n",
    "1) a file or\n",
    "2) the console.\n",
    "\n",
    "Every subclass of `Module` has a default logging module of type `utils.logger.DiasysLogger` you can access via the `self.logger` property.\n",
    "If you don't specify a customized logging instance when initializing a module, \n",
    "a standard logger will be used which only logs errors to the console.\n",
    "\n",
    "The same logger instance may be shared across multiple modules or each module can have its own logger, with different log levels or file output paths.\n",
    "\n",
    "E.g. a basic logger that will log results to the console (and will create no logfile):"
   ]
  },
  {
   "cell_type": "code",
   "execution_count": null,
   "metadata": {},
   "outputs": [],
   "source": [
    "from utils.logger import DiasysLogger, LogLevel\n",
    "\n",
    "# configuration\n",
    "logger = DiasysLogger(console_log_lvl=LogLevel.RESULTS)\n",
    "\n",
    "\n",
    "# ... other imports\n",
    "\n",
    "# ... your code"
   ]
  },
  {
   "cell_type": "markdown",
   "metadata": {},
   "source": [
    "To integrate this logger into your new module, just pass the logger to the constructor and call the logging-related methods on the `self.logger` property."
   ]
  },
  {
   "cell_type": "code",
   "execution_count": null,
   "metadata": {},
   "outputs": [],
   "source": [
    "import os\n",
    "from modules.module import Module\n",
    "from utils.useract import UserActionType, UserAct\n",
    "from utils.logger import DiasysLogger, LogLevel\n",
    "from utils.domain.jsonlookupdomain import JSONLookupDomain\n",
    "\n",
    "domain = JSONLookupDomain(name='ImsCourses')\n",
    "\n",
    "# initialize a logger that will print results of our custom NLU to the console\n",
    "logger = DiasysLogger(console_log_lvl=LogLevel.RESULTS)\n",
    "\n",
    "class MyCustomNLU(Module):\n",
    "    def __init__(self, domain, subgraph : dict = None, logger : DiasysLogger = logger):\n",
    "        super(MyCustomNLU, self).__init__(domain, subgraph=subgraph)\n",
    "        \n",
    "    def forward(self, dialog_graph, user_utterance : str = '', **kwargs):\n",
    "        user_acts = []\n",
    "        if 'italian' in user_utterance:\n",
    "            user_acts.append(UserAct(act_type=UserActionType.Inform, slot='food', value='italian'))\n",
    "        \n",
    "        # Logging\n",
    "        logger.dialog_turn(\"This message is not going to be printed because of the specified log level\")\n",
    "        logger.result(\"NLU result: \" + str(user_acts))\n",
    "        \n",
    "        return {'user_acts': user_acts}\n",
    "    \n",
    "mynlu = MyCustomNLU(domain=domain)\n",
    "user_input = \"i like italian food\"                                   # test input\n",
    "result = mynlu.forward(dialog_graph=None, user_utterance=user_input) # process input"
   ]
  },
  {
   "cell_type": "markdown",
   "metadata": {},
   "source": [
    "If you want to log to a file, you can also configure the output path.\n",
    "The next example sets up a logger which will log complete dialogs to a file and only print errors to the console."
   ]
  },
  {
   "cell_type": "code",
   "execution_count": null,
   "metadata": {},
   "outputs": [],
   "source": [
    "from utils.logger import DiasysLogger, LogLevel\n",
    "\n",
    "# Configuration\n",
    "logger = DiasysLogger(console_log_lvl=LogLevel.ERRORS,\n",
    "                      file_log_lvl=LogLevel.DIALOGS,       # <-- the log level for your log file output\n",
    "                      logfile_folder='mylogs',                  # <-- the folder where your log file should be created\n",
    "                      logfile_basename='mynewlog')             # <-- this is the base name of your log file"
   ]
  },
  {
   "cell_type": "markdown",
   "metadata": {},
   "source": [
    "## The dialog graph + Building & running a dialog system"
   ]
  },
  {
   "cell_type": "markdown",
   "metadata": {},
   "source": [
    "Typically, dialog system modules are combined in a pipeline as displayed in the following figure (blue modules are included in ADVISER):\n",
    "\n",
    "<img src=\"tutorialresources/pipeline.png\" width=\"800\" align=\"center\"/>\n",
    "\n",
    "However, ADVISER allows you to freely re-order, remove or insert modules as long as the required inputs for each module inside the pipeline are provided.\n",
    "For example, if you want to build an end-to-end system, you may discard most of the modules.\n",
    "Or instead of a linear structure, you could also create branching structures. \n",
    "\n",
    "In ADVISER, you create a dialog graph by providing a list with instances of the modules in the order you wish them to be executed (e.g. it makes sense to place a NLU *after* an input module).\n",
    "\n",
    "To construct a dialog system, instantiate all components you want to include in your dialog graph and hand them over to the top level class **dialogsystem.DialogSystem**."
   ]
  },
  {
   "cell_type": "markdown",
   "metadata": {},
   "source": [
    "Example of a typical dialog system pipeline similar to the one displayed in the above figure (without ASR and TTS):"
   ]
  },
  {
   "cell_type": "code",
   "execution_count": 1,
   "metadata": {},
   "outputs": [],
   "source": [
    "import os\n",
    "from dialogsystem import DialogSystem\n",
    "from modules.nlu import HandcraftedNLU\n",
    "from modules.bst import HandcraftedBST\n",
    "from modules.nlg import HandcraftedNLG\n",
    "from modules.policy import DQNPolicy, HandcraftedPolicy\n",
    "from modules.surfaces import ConsoleInput, ConsoleOutput\n",
    "from utils.domain.jsonlookupdomain import JSONLookupDomain\n",
    "from utils.logger import DiasysLogger, LogLevel\n",
    "\n",
    "logger = DiasysLogger(console_log_lvl = LogLevel.DIALOGS)\n",
    "\n",
    "# instantiate domain\n",
    "domain = JSONLookupDomain(name='ImsCourses')\n",
    "\n",
    "# instantiate components\n",
    "nlu = HandcraftedNLU(domain=domain, logger=logger)\n",
    "bst = HandcraftedBST(domain=domain, logger=logger)\n",
    "policy = HandcraftedPolicy(domain=domain, logger=logger)\n",
    "nlg_template = os.path.join('resources', 'templates', 'ImsCoursesMessages.nlg')\n",
    "nlg = HandcraftedNLG(domain=domain, template_file=nlg_template, logger=logger)\n",
    "\n",
    "# connect components to a dialog system\n",
    "hdc_system = DialogSystem(nlu,\n",
    "                         bst,\n",
    "                         policy,\n",
    "                         nlg,\n",
    "                         logger=logger)"
   ]
  },
  {
   "cell_type": "markdown",
   "metadata": {},
   "source": [
    "This system however does not yet know how to handle user input and how to present the system's output.\n",
    "We will cover this in the next section."
   ]
  },
  {
   "cell_type": "markdown",
   "metadata": {},
   "source": [
    "## Chatting with the dialog system\n",
    "\n",
    "Currently, two different ways of handling Input and Output are available in the `modules/surfaces` directory:\n",
    "* Console interface (**ConsoleInput / ConsoleOutput** classes)\n",
    "* Graphical User Interface (**GuiInput / GuiOutput** classes)\n",
    "\n",
    "If you want to chat with your dialog system,\n",
    "make sure to add an instance of either the console or GUI classes for input handling before your NLU (the NLU already  requires user input) and one for Output after your NLG (there is no human-readable text before NLG processing).\n",
    "\n",
    "Extending the example dialog graph from above with console based in- and output looks like this:"
   ]
  },
  {
   "cell_type": "code",
   "execution_count": 2,
   "metadata": {},
   "outputs": [],
   "source": [
    "# ... other imports\n",
    "from modules.surfaces import ConsoleInput, ConsoleOutput\n",
    "from utils.logger import DiasysLogger, LogLevel\n",
    "\n",
    "# ... component instantiation as above\n",
    "\n",
    "# input / output handling modules\n",
    "user_input = ConsoleInput(logger=logger)\n",
    "user_output = ConsoleOutput(logger=logger)\n",
    "\n",
    "# connect components to a dialog system\n",
    "hdc_system = DialogSystem(user_input,  # <-- user input before the NLU\n",
    "                         nlu,\n",
    "                         bst,\n",
    "                         policy,\n",
    "                         nlg,\n",
    "                         user_output,\n",
    "                         logger=logger) # <-- user output after the NLG"
   ]
  },
  {
   "cell_type": "code",
   "execution_count": 3,
   "metadata": {},
   "outputs": [
    {
     "name": "stderr",
     "output_type": "stream",
     "text": [
      "logger: # DIALOG 0 STARTED #\n",
      "logger: # TURN 0 #\n"
     ]
    },
    {
     "name": "stdout",
     "output_type": "stream",
     "text": [
      "Please select your language: English or German\n",
      ">>> german\n"
     ]
    },
    {
     "name": "stderr",
     "output_type": "stream",
     "text": [
      "logger: User Actions: []\n",
      "logger: System Action: welcomemsg()\n",
      "logger: # TURN 1 #\n"
     ]
    },
    {
     "name": "stdout",
     "output_type": "stream",
     "text": [
      "System: Willkommen zum IMS Lehrveranstaltungs Chat Bot. Wie kann ich dir weiterhelfen?\n",
      ">>> Hi, ich hätte gerne einen Kurs von Franz Kafka.\n"
     ]
    },
    {
     "name": "stderr",
     "output_type": "stream",
     "text": [
      "logger: User Utterance: Hi, ich hätte gerne einen Kurs von Franz Kafka.\n",
      "logger: User Actions: [UserAct(\"Hi, ich hätte gerne einen Kurs von Franz Kafka.\", UserActionType.Hello, None, None, 1.0), UserAct(\"Hi, ich hätte gerne einen Kurs von Franz Kafka.\", UserActionType.Inform, lecturer, franz kafka, 1.0)]\n",
      "logger: System Action: inform_byname(name=\"['introduction to psycholinguistics']\",lecturer=\"['franz kafka']\")\n",
      "logger: # TURN 2 #\n"
     ]
    },
    {
     "name": "stdout",
     "output_type": "stream",
     "text": [
      "System: Der Kurs introduction to psycholinguistics wird von Franz Kafka unterrichtet.\n",
      ">>> In welchem Semester findet er statt?\n"
     ]
    },
    {
     "name": "stderr",
     "output_type": "stream",
     "text": [
      "logger: User Utterance: In welchem Semester findet er statt?\n",
      "logger: User Actions: [UserAct(\"In welchem Semester findet er statt?\", UserActionType.Request, turn, None, 1.0)]\n",
      "logger: System Action: inform_byname(turn=\"['sose']\",name=\"['introduction to psycholinguistics']\")\n",
      "logger: # TURN 3 #\n"
     ]
    },
    {
     "name": "stdout",
     "output_type": "stream",
     "text": [
      "System: Der Kurs introduction to psycholinguistics wird im Sommersemester angeboten.\n",
      ">>> Danke und tschüss.\n"
     ]
    },
    {
     "name": "stderr",
     "output_type": "stream",
     "text": [
      "logger: User Utterance: Danke und tschüss.\n",
      "logger: User Actions: [UserAct(\"Danke und tschüss.\", UserActionType.Bye, None, None, 1.0), UserAct(\"Danke und tschüss.\", UserActionType.Thanks, None, None, 1.0)]\n",
      "logger: System Action: closingmsg()\n",
      "logger: # DIALOG 0 FINISHED #\n"
     ]
    },
    {
     "name": "stdout",
     "output_type": "stream",
     "text": [
      "System: Danke schön, bis zum nächsten Mal.\n"
     ]
    }
   ],
   "source": [
    "# start one dialog with a human user \n",
    "hdc_system.run_dialog()"
   ]
  },
  {
   "cell_type": "markdown",
   "metadata": {},
   "source": [
    "# Creating a new domain"
   ]
  },
  {
   "cell_type": "markdown",
   "metadata": {},
   "source": [
    "In order to create a new domain, you need a database with the following properties:\n",
    "* format: sqllite 3\n",
    "* 1 table is usable only\n",
    "* each column is a slot\n",
    "    * binary slots should only have values true or false \n",
    "\n",
    "1) Create the ontology for the new domain\n",
    "\n",
    "With that, you can execute the domain creation tool by calling\n",
    "```bash\n",
    "python tools/ontology/create_ontology.py path/to/your/database/YourDomainName.db\n",
    "```\n",
    "from the top level directory.\n",
    "\n",
    "As a fist step, you have to choose the table you want to use (we will use the ImsCourses database located in resources/databases for demonstration purposes):\n",
    "<img src=\"tutorialresources/ontcreator_select_db.png\" width=\"500\"/>\n",
    "\n",
    "Afterwards, you are asked to name your new domain.\n",
    "The following selection screens allow you to choose the slots for each slot type.\n",
    "An active selection is indicated by a blue circle.\n",
    "\n",
    "When asked for a primary key, this means you should reference the column in your database which uniquely discriminates all database entries (preferably in a human-readable way, not just an index) - in case of restaurants or hotels, this could be the name of the venues. \n",
    "\n",
    "Possible slot types are\n",
    "* Informable: information the user can inform the system about\n",
    "* System requestable: information the system can actively ask the user\n",
    "* Requestable: information the user can request from the system\n",
    "\n",
    "Other things to choose from (when in doubt, just select all of them) are \n",
    "* user discourse acts (e.g. acknowledge, hello, repeat, ...)\n",
    "* user methods - they indicate if the current user utterance queries the system by constraints or if they used a primary key, if the dialog goal is fullfilled or if they asked for alternatives\n",
    "\n",
    "A special value you can select is the `dontcare` value, which, when included, means that the user can just say they don't care about the corresponding slot and leave filling it up to the system (e.g. when searching for a restaurant and the system asks for the _area_, a user might say something like `I don't care` - the system will then omit the _area_ slot as a constraint in the database queries).\n",
    "\n",
    "Selection screens for slots / values look like this:\n",
    "<img src=\"tutorialresources/ontcreator_selections.png\" width=\"700\"/>\n",
    "\n",
    "The resulting .json file containing the ontology will look like this (excerpt):\n",
    "<img src=\"tutorialresources/ontcreator_json.png\" width=\"500\"/>\n",
    "\n",
    "If your database is not already located inside the folder `resources/databases`,\n",
    "confirm the copy operation when asked by the ontology creation tool.\n",
    "\n",
    "After the tool terminated successfully, \n",
    "check that the following two files were created inside the folder `resources/databases`:\n",
    "* \\[YourDomainName\\].db\n",
    "* \\[YourDomainName\\].json\n",
    "\n",
    "2) Use the new domain\n",
    "\n",
    "Create an instance of your new domain by providing the name of your domain and\n",
    "paths to the newly created json-ontology file and sqllite database.\n",
    "These paths have to be relative to the adviser top level directory, e.g. `resources/databases`.\n",
    "\n",
    "```python\n",
    "from utils.domain.jsonlookupdomain import JSONLookupDomain\n",
    "\n",
    "your_domain_instance = JSONLookupDomain(name='YourDomainName', \n",
    "                            json_ontology_file='resources/databases/YourDomainName.json', \n",
    "                            sqllite_db_file='resources/databases/YourDomainName.db')\n",
    "                            \n",
    "```\n",
    "\n",
    "Use this instance to instantiate the modules that constitute your dialog graph."
   ]
  },
  {
   "cell_type": "markdown",
   "metadata": {},
   "source": [
    "## Regular Expressions (Regexes)\n",
    "\n",
    "We define Regular Expressions and refer you to some tutorials if necessary, because they are used in the next section.\n",
    "\n",
    "A _regular expression_ is a sequence of characters that define a search pattern [Reference](https://en.wikipedia.org/wiki/Regular_expression)\n",
    "\n",
    "There are several tutorial online to learn regular expressions with Python:\n",
    "\n",
    "* Official Python website: https://docs.python.org/3/howto/regex.html\n",
    "* https://pymotw.com/3/re/\n",
    "* https://pythonprogramming.net/regular-expressions-regex-tutorial-python-3/\n",
    "\n",
    "Here you can test your regular expressions and get a writen explanation of what they do: https://regex101.com/\n"
   ]
  },
  {
   "cell_type": "markdown",
   "metadata": {},
   "source": [
    "## Rule-based Natural Language Understanding (NLU) through Regexes\n",
    "\n",
    "The Regex Generator (adviser/tools/regex_generator/) is a set of Python files that helps create regular expressions (regexes) to detect the User Intent (also refered as User Act) and saves them in JSON files (Location: diasys/adviser/resources/regexes/) .\n",
    "\n",
    "Note: Act, action and intent are treated as synonyms and they are used indistinctly.\n",
    "\n",
    "We have two levels of Intents: General and Domain-dependent\n"
   ]
  },
  {
   "cell_type": "markdown",
   "metadata": {},
   "source": [
    "### General User Acts \n",
    "\n",
    "General User acts are domain-independent, i.e. they are applicable to any new domain. Their respective regular expressions aim at detecting the User Acts: _Hello_, _Bye_, _Affirm_, _Thanks_, _Repeat_, _Request Alternatives_.\n",
    "\n",
    "The python script GeneralRegexes.py creates and saves the respective regular expressions. Any change and exectution of this file will affect all Regexes-based NLU modules. \n",
    "\n",
    "Regexes for general user acts are stored in diasys/adviser/resources/regexes/GeneralRules.json\n",
    "\n",
    "Example:\n",
    "\n",
    "Python expression to create regular expressions for the User Act Affirm:\n",
    "\n",
    "```python\n",
    "# Affirm\n",
    "self.rAFFIRM = \"((yes|yeah|(\\\\b|^)ok\\\\b|(\\\\b|^)OK|okay|sure|^y$|(\\\\b|^)yep(\\\\b|$)\" \\\n",
    "               \"|(that('?s| is) )?(?<!not\\ )(?<!no\\ )(right|correct|confirm)))(\\s)?$\"\n",
    "self.general_regex[UserActionType.Affirm.value] = self.rAFFIRM\n",
    "```\n",
    "\n",
    "Regular expression in JSON file:\n",
    "\n",
    "```python\n",
    "\"affirm\": \"((yes|yeah|(\\\\b|^)ok\\\\b|(\\\\b|^)OK|okay|sure|^y$|(\\\\b|^)yep(\\\\b|$)|(that('?s| is) )?(?<!not\\\\ )(?<!no\\\\ )(right|correct|confirm)))(\\\\s)?$\",\n",
    "\n",
    "```\n",
    "\n",
    "The resulting regex is capable to detect these examples:\n",
    "* yes\n",
    "* correct\n",
    "* right\n",
    "\n",
    "But not \n",
    "* not right\n",
    "* that's not correct\n"
   ]
  },
  {
   "cell_type": "markdown",
   "metadata": {},
   "source": [
    "### Domain-dependent User Acts\n",
    "\n",
    "There are User Acts that depend on a particular domain (i.e. ImsCourses, ImsImpModules), since a slot or a slot-value pair is involved, which refers to information that is inherent to this domain, e.g. Request(slot) and Inform(slot=value).\n",
    "\n",
    "The python script should be YourDomainNameRegexes.py, e.g. ImsCoursesRegexes.py.\n",
    "\n",
    "The resulting ontology from the new domain creation is important at this point, because the script YourDomainNameRegexes.py  makes use of the ontology to build iteratively the Inform and Request regexes.\n",
    "\n",
    "In YourDomainNameRegexes.py it is possible to add vocabulary linked to each slot in set_indomain_regexes(), as well as synonyms for each value if necessary in set_synonyms().\n",
    "\n",
    "Examples:\n",
    "\n",
    "* Vocabulary for slot _lecturer_ from ImsCourses in set_indomain_regexes()\n",
    "\n",
    "```python\n",
    "self.slot_vocab[\"lecturer\"] = \"(lecturer|teacher|responsible|professor|examiner)\"\n",
    "```\n",
    "\n",
    "With this, the slot _lecturer_ can be also referred as _teacher, responsible, professor_ or _examiner_\n",
    "\n",
    "* Synonyms for slot _module__name_ and slot 'computational linguistics team laboratory' from ImsCourses in set_synonyms()\n",
    "\n",
    "\n",
    "```python\n",
    "slot = \"module_name\"\n",
    "self.slot_values[slot]['computational linguistics team laboratory'] += '|((CL\\ ' \\\n",
    "                                                                               '|Computational\\ Linguistics)?' \\\n",
    "                                                                               'Team\\ Lab(oratory)?)'\n",
    "```\n",
    "\n",
    "With this, the value can be referred as it appears in the database ('computational linguistics team laboratory'), but also the synonyms specified, this is 'CL', 'Computational Linguistics' and 'Team Lab' and 'Tem Laboratory'. \n",
    "\n",
    "\n",
    "For our use case, i.e. ImsCourses, the script ImsCoursesRegexes.py creates domain-dependent regexes stored in:\n",
    "* Inform Acts: diasys/adviser/resources/regexes/ImsCoursesInformRules.json\n",
    "* Request Acts: diasys/adviser/resources/regexes/ImsCoursesRequestRules.json\n",
    "\n",
    "\n",
    "Regex examples:\n",
    "\n",
    "#### _Inform(lang=de)_ , i.e. language = German\n",
    "\n",
    "```python\n",
    "\"lang\": {\n",
    "        \"de\": \"(\\\\\\\\b|^|\\\\ )(what\\\\ about|want|have|need|looking\\\\ for|used\\\\ for)(\\\\ a(n)?)*\\\\ (\\\\bde\\\\b)|(german|deutsch)|(\\\\bde\\\\b)|(german|deutsch)(\\\\ ((would|seems\\\\ to)\\\\ be\\\\ (good|nice)($|[^\\\\?]$)|seems\\\\ (good|nice)($|[^\\\\?]$)))|(\\\\ |^)(\\\\bde\\\\b)|(german|deutsch)(\\\\ (please|and))*\",\n",
    "       }\n",
    "\n",
    "```\n",
    "\n",
    "\n",
    "The resulting regex is capable to detect these examples:\n",
    "* What about german please\n",
    "* German seems to be nice\n",
    "\n",
    "\n",
    "\n",
    "#### _Request(applied _nlp)_\n",
    "\n",
    "```python\n",
    "\"applied_nlp\": \"(is\\\\ (it|(this|the)\\\\ (course))\\\\ (from|about|related \\\\ to)\\\\ ((applied\\\\ )?(nlp|natural language processing))(\\\\?)*)\"\n",
    "```\n",
    "\n",
    "The resulting regex is capable to detect these examples:\n",
    "* Is this course related to nlp??\n",
    "* is the course from applied natural language processing\n",
    "\n",
    "\n",
    "\n",
    "#### NOTES:\n",
    "\n",
    "* The Regex Generator works independently from the dialog system, therefore the scripts that create the JSON files containing the regexes should be ready before they are called by any NLU implementation.\n",
    "\n",
    "* We recommend to use ImsCoursesRegexes.py as template for any other implementation, because it contains the methods to save the JSON files and to compile the regexes.\n",
    "\n",
    "* Running the existing ImsCoursesRegexes.py (or any other YourDomainNameRegexes.py) from the terminal\n",
    "\n",
    "```\n",
    "python ImsCoursesRegexes.py\n",
    "```"
   ]
  },
  {
   "cell_type": "markdown",
   "metadata": {},
   "source": [
    "## Rule-based and statistical Belief State Tracker (BST)\n",
    "\n",
    "The BST maintains a representation of the current dialog state. Our rule-based implementation receives a list of user acts from the NLU that are decoded and stored with probabilities in the belief state. The BST also detects the presence of discourse acts, e.g. _Hello_, _Repeat_, _Inform_ and _Request_. Moreover, it stores information from the system history including the last requested slot and last entity offered.\n",
    "\n",
    "Our machine learning based belief state tracker is trained to predict the belief state directly from text without the need for an NLU.\n",
    "To track the constraints and requests issued by the user, we feed system actions and user input turn-wise into a recurrent network and concatenate the resulting hidden states of both inputs before predicting the final belief state.\n",
    "\n",
    "These approaches can be found in \n",
    "* Rule-based: adviser/modules/bst/bst.py\n",
    "* Statistical: adviser/modules/bst/ml/mlbst.py"
   ]
  },
  {
   "cell_type": "markdown",
   "metadata": {},
   "source": [
    "## Rule-based Policy\n",
    "\n",
    "The rule-based policy aims to provide users with a single entity matching the constraints they have specified. \n",
    "After each turn the policy verifies that the user has not ended the dialog. \n",
    "It then reads the current belief state and generates a suitable query for the database. \n",
    "If there are multiple results, the next system act will be to request more information from the user to disambiguate. \n",
    "Otherwise, the system is able to make an offer -- directly informing the user about a specific entity -- or to give more details about a current offer. \n",
    "\n",
    "The implementation is in `adviser/modules/policy/policy_handcrafted.py`\n"
   ]
  },
  {
   "cell_type": "markdown",
   "metadata": {},
   "source": [
    "## User Simulator\n",
    "\n",
    "To support automatic evaluation of policies and training of reinforcement learning policies, a user simulator can be used. \n",
    "The simulated user behaves like a real user following a goal and answering any system action with one or more user actions. \n",
    "\n",
    "The package `modules.simulator` provides currently the `HandcraftedUserSimulator` class, which implements the [agenda-based user simulator by Schatzmann et al.](http://mi.eng.cam.ac.uk/~sjy/papers/stwy07.pdf) \n",
    "On initialization it loads the configuration file `usermodel.cfg` from the same location where the package `modules.simulator.hdc` resides.\n",
    "This gives you the possibility to change the behaviour of the user simulator, while the parameters are described in the config.\n",
    "\n",
    "<div class=\"alert alert-block alert-info\">\n",
    "<b>Parameters:</b> The parameters will be used on initialization of the user simulator in the future superseding \n",
    "</div>\n"
   ]
  },
  {
   "cell_type": "markdown",
   "metadata": {},
   "source": [
    "## Training a reinforcement learning policy\n",
    "\n",
    "In order to train a reinforcement learning policy with a user simulator instead of chatting with it,\n",
    "the dialog graph needs to change slightly.\n",
    "User input and output modules need to be replaced by a user simulator module:\n",
    "\n",
    "<img src=\"tutorialresources/policy_training.png\" width=\"350\" align=\"center\"/>\n",
    "\n",
    "For the sake of reproducibility, it is recommended to store the random seeds you used for training and evaluation along with the results and initialize all random generators used in your pipeline with it.\n",
    "\n",
    "If you call `utils.common.init_random(seed=12345)` before training, the python random module as well as numpy, pytorch and tensorflow modules will be initialized with this random seed.\n",
    "If you run the system twice with the same seed, you should get exactly the same results and dialogs.\n",
    "Random seeds themselves should also be chosen randomly.\n",
    "\n",
    "Example training and evaluation code:"
   ]
  },
  {
   "cell_type": "code",
   "execution_count": null,
   "metadata": {},
   "outputs": [],
   "source": [
    "import os\n",
    "from dialogsystem import DialogSystem\n",
    "from modules.bst import HandcraftedBST\n",
    "from modules.policy import DQNPolicy\n",
    "from modules.simulator import HandcraftedUserSimulator\n",
    "from utils.domain.jsonlookupdomain import JSONLookupDomain\n",
    "from modules.policy.rl.experience_buffer import NaivePrioritizedBuffer\n",
    "from utils import common\n",
    "\n",
    "random_seed = 12345\n",
    "\n",
    "TRAIN_EPOCHS = 4       # complete training episodes\n",
    "TRAIN_EPISODES = 1000  # training dialogs per epoch -> 4*1000=4000 training dialogs\n",
    "EVAL_EPISODES = 500    # test dialogs per epoch -> 4*500=2000 training dialogs\n",
    "MAX_TURNS = -1         # no upper limit on maximum turns\n",
    "\n",
    "common.init_random(seed=random_seed)\n",
    "\n",
    "# initialize dialog system components\n",
    "domain = JSONLookupDomain(name='ImsCourses')\n",
    "bst = HandcraftedBST(domain=domain)\n",
    "user_sim = HandcraftedUserSimulator(domain=domain)\n",
    "policy= DQNPolicy(domain=domain, lr=0.0001, eps_start=0.3, gradient_clipping=0.0, buffer_cls=NaivePrioritizedBuffer, replay_buffer_size=8192, train_dialogs=TRAIN_EPISODES)\n",
    "\n",
    "# create dialog graph\n",
    "rlds = DialogSystem(policy,\n",
    "                    user_sim,\n",
    "                    bst)\n",
    "\n",
    "# training loop\n",
    "for i in range(TRAIN_EPOCHS):\n",
    "    # begin next training epoch\n",
    "    rlds.train()\n",
    "    \n",
    "    for episode in range(TRAIN_EPISODES):\n",
    "        # train 1000 dialogs for this epoch\n",
    "        rlds.run_dialog(max_length=MAX_TURNS)\n",
    "    rlds.num_dialogs = 0  # reset: IMPORTANT for epsilon scheduler in dqnpolicy\n",
    "    \n",
    "    # begin evaluation \n",
    "    rlds.eval()\n",
    "    for episode in range(EVAL_EPISODES):\n",
    "        # evaluate 500 dialogs for this epoch\n",
    "        rlds.run_dialog(max_length=MAX_TURNS)\n",
    "    rlds.num_dialogs = 0 # reset: IMPORTANT for epsilon scheduler in dqnpolicy\n",
    "\n",
    "policy.save()  # store trained policy"
   ]
  },
  {
   "cell_type": "markdown",
   "metadata": {},
   "source": [
    "To create your own reinforcement learning policy, the easiest way might be to derive from `modules.policy.policy_rl.RLPolicy` module.\n",
    "\n",
    "It constructs a set of action templates from base action names and slot names from the ontology,\n",
    "e.g. if you have a slot `food` in your ontology, it will create actions like `inform#food`, `request#food` and `select#food` which are used to inform a user about a certain type of food, to request the food type from the user or to let the user choose between multiple food types.\n",
    "These action templates are the initial output of the reinforcement leraning policy, \n",
    "which then get expanded by using beliefstate and database information.\n",
    "Suppose that a restaurant _two two_ was already selected and the user now asks the system what kind of food they serve.\n",
    "The appropriate system action could be `inform#food`.\n",
    "Augmenting this with the knowledge from our belief state, we can formulate a database query for the chosen restaurant and food slot.\n",
    "The result will then be used to create a full action from the template action: `inform(name='two two', food='french')`.\n",
    "Methods which perform this augmentation start with `_expand_` in their name, e.g. `_expand_inform()`."
   ]
  },
  {
   "cell_type": "markdown",
   "metadata": {},
   "source": [
    "## Evaluation\n",
    "\n",
    "In order to evaluate your final dialog system, you can add an instance of the evaluation module **modules.policy.evaluation.PolicyEvaluator** at the end of your dialog graph.\n",
    "It will log average turn number, success rate and average reward.\n",
    "Additionally, it can generate tensorboard output for live analysis and more details.\n",
    "\n",
    "Augmenting the system from above to record statistics:"
   ]
  },
  {
   "cell_type": "code",
   "execution_count": null,
   "metadata": {},
   "outputs": [],
   "source": [
    "# ... other imports\n",
    "from modules.policy.evaluation import PolicyEvaluator\n",
    "\n",
    "# ... component instantiation as above\n",
    "\n",
    "evaluator = PolicyEvaluator(domain=domain, \n",
    "                            use_tensorboard=True,  # <-- create nice live graphs\n",
    "                            experiment_name='eval_my_awesome_system') # <-- used for naming output folders \n",
    "\n",
    "# connect components to a dialog system\n",
    "rlds = DialogSystem(policy,\n",
    "                    user_sim,\n",
    "                    bst,\n",
    "                    evaluator)\n",
    "\n",
    "# training loop\n",
    "for i in range(TRAIN_EPOCHS):\n",
    "    # begin next training epoch\n",
    "    rlds.train()\n",
    "    evaluator.start_epoch()   # <-- notify evaluator that we start a new epoch\n",
    "    \n",
    "    for episode in range(TRAIN_EPISODES):\n",
    "        # train 1000 dialogs for this epoch\n",
    "        rlds.run_dialog(max_length=MAX_TURNS)\n",
    "    rlds.num_dialogs = 0  # reset: IMPORTANT for epsilon scheduler in dqnpolicy\n",
    "    evaluator.end_epoch()   # <-- notify evaluator that epoch ended\n",
    "    \n",
    "    # begin evaluation \n",
    "    rlds.eval()\n",
    "    evaluator.start_epoch()   # <-- notify evaluator the we start a new epoch\n",
    "    for episode in range(EVAL_EPISODES):\n",
    "        # evaluate 500 dialogs for this epoch\n",
    "        rlds.run_dialog(max_length=MAX_TURNS)\n",
    "    evaluator.end_epoch()   # <-- notify evaluator that epoch ended\n",
    "\n",
    "policy.save()  # store trained policy"
   ]
  },
  {
   "cell_type": "markdown",
   "metadata": {},
   "source": [
    "## Handcrafted Natural Language Generation (NLG) through Sentence Templates\n",
    "\n",
    "We have a module called HandcraftedNLG under adviser/modules/nlg/, whose main purpose is to convert the System Act into a human readable sentence by means of templates. Each  possible  systemact  is  mapped  to  exactly  at least one utterance.\n",
    "\n",
    "To  reduce  large  number  of  mappings, templates  are  used  in a way that  allow  multiple  mappings  from  system  acts  to  their  respective  utterance  at  once.   By  specifying  placeholders  for  a system act's slots and/or values, the utterance can be  formulated  independent  of  the  actual  realizations \n",
    "\n",
    "```\n",
    "inform(name={X}, ects={Y}) → \"The course {X} is worth {Y} ECTS.\"\n",
    "```\n",
    "\n",
    "During  the dialog, the system iterates through the templates and chooses the first one for which the system act fits the template's signature. \n",
    "\n",
    "Under adviser/resources/templates the handcrafted templates are stored in text files. Each file is divided into several sections, we add examples:\n",
    "\n",
    "* Templates for system general acts\n",
    "\n",
    "```\n",
    "template hello(): \"Welcome to the IMS courses chat bot. How may I help you?\"\n",
    "```\n",
    "\n",
    "* Templates for system requests\n",
    "\n",
    "```\n",
    "template request(lang): \"In which language shall the course be held?\"\n",
    "```\n",
    "\n",
    "* Methods for system informs\n",
    "\n",
    "```\n",
    "function info(slot, value)\n",
    "\tif slot = \"ects\": \"is worth {value} ECTS\"\n",
    "    if slot = \"turn\"\n",
    "\t\tif value = \"sose\": \"is offered in the summer semester\"\n",
    "\t\tif value = \"wise\": \"is offered in the winter semester\"\n",
    "```\n",
    "\n",
    "\n",
    "* Templates for system informs\n",
    "\n",
    "```\n",
    "template inform_byname(name)\n",
    "\t\"I found the course {name}. What do you want to know about it?\"\n",
    "template inform_byname(name, turn)\n",
    "\t\"The course {name} {info(\"turn\", turn)}.\"\n",
    "```\n",
    "\n",
    "* Similarly, templates for system confirm, request more and select are included.\n",
    "\n",
    "\n",
    "Example:\n",
    "\n",
    "If system act is \n",
    "\n",
    "```\n",
    "inform(name='computational linguistics team laboratory', turn='wise')\n",
    "```\n",
    "\n",
    "The NLG output will be\n",
    "\n",
    "```\n",
    "The course computational linguistics team laboratory is offered in the winter semester.\n",
    "```\n",
    "\n",
    "\n",
    "Notes:\n",
    "\n",
    "* Each domain has a ist own YourDomainNameMessages.nlg file\n",
    "* No python script needs to be modified (domain independent)"
   ]
  },
  {
   "cell_type": "code",
   "execution_count": null,
   "metadata": {},
   "outputs": [],
   "source": []
  }
 ],
 "metadata": {
  "kernelspec": {
   "display_name": "Python 3",
   "language": "python",
   "name": "python3"
  },
  "language_info": {
   "codemirror_mode": {
    "name": "ipython",
    "version": 3
   },
   "file_extension": ".py",
   "mimetype": "text/x-python",
   "name": "python",
   "nbconvert_exporter": "python",
   "pygments_lexer": "ipython3",
   "version": "3.7.3"
  }
 },
 "nbformat": 4,
 "nbformat_minor": 2
}
