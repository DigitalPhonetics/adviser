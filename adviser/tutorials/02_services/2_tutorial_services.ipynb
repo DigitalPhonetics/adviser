{
 "cells": [
  {
   "cell_type": "markdown",
   "metadata": {},
   "source": [
    "# Introduction to ADVISER 2.0 Services\n",
    "\n",
    "In this tutorial, we will discuss Services which are the backbone of the ADVISER 2.0 toolkit and allow for the creation of multi-modal dialog systems.\n",
    "\n",
    "## Overview\n",
    "* [What are Services](#intro)\n",
    "* [Implementing a Service](#implementation)\n",
    "* [Instantiating a Dialog System](#instantiating)\n",
    "* [Debugging a Dialog System](#debugging)\n",
    "* [Running a Dialog System](#running)"
   ]
  },
  {
   "cell_type": "markdown",
   "metadata": {},
   "source": [
    "## What are Services? <a class=\"anchor\" id=\"intro\"></a>\n",
    "\n",
    "A dialog system created with *ADVISER 2.0* is constructed from *services*, with a service for each module from the modular dialog system graph shown in the previous tutorial.\n",
    "Each service receives inputs from previous services, processes them, and then passes the results on to the next services. An example of this can be seen in the dialog system graph below:\n",
    "\n",
    "<img src=\"system.png\" width=\"25%\" height=\"25%\" />\n",
    "\n",
    "Each block represents one service (module) in the dialog system and each arrow represents the inputs/outputs of that service. To communicate with each other, services use a publisher/subscriber pattern. This will be explained later in this tutorial, but basically means, that a service defines a list of inputs it expects and that it outputs. The service is then asynchronously called once all the expected inputs are available.\n",
    "\n",
    "\n",
    "**Example:**\n",
    "\n",
    "Let's take the `HandcraftedNLU` service class as an example:\n",
    "* The service receives a string *user_utterance* as input\n",
    "    * It is important to note: the source of this input is unknown to the service and does not matter. In this example, it comes from the console, but it could just as easily come from a GUI or an automatic speech recognition (ASR) service\n",
    "\n",
    "* The service outputs a list of user acts extracted from the user utterance\n",
    "    * The receiver(s) of the outputs is not known to the service and does not matter\n",
    "    \n",
    "In summary, a service does not posess nor require any knowledge about a dialog system - its purpose is to process a piece or stream of information and send the result out so other services might use it. This allows dialog systems to be created where it is very easy to swap out (or combine) different services. \n",
    "\n",
    "### Publish Subscribe at a high level\n",
    "Information is passed between services using the publisher/subscriber pattern which enables for asynchronous communication between services:\n",
    "* A Publisher *publishes* messages to a certain *topic* (where a topic is just a string specifying the name of an information channel)\n",
    "* A Subscriber *subscribes* to a certain topic, and is notified everytime a new message is published to this topic\n",
    "\n",
    "If a method is a subscriber, it is automatically called as soon as it has recieved a message for each of the topics it subscribes to. This means that rather than relying on a traditional linear architecture, where each module in the dialog system must be called sequentially, we can break away and allow modules to run arbitrarily in parallel - which is critical for handling multimodal input which might need continuous processing. \n",
    "\n",
    "As a note, methods in a service class may act as both a publisher and a subscriber, only one, or neither."
   ]
  },
  {
   "cell_type": "markdown",
   "metadata": {},
   "source": [
    "## Implementing a Service <a class=\"anchor\" id=\"implementation\"></a>\n",
    "\n",
    "With this terminology in mind, let's look at the way a service subscribes to and publishes messages. As a first step we'll handle all the imports needed for this tutorial."
   ]
  },
  {
   "cell_type": "code",
   "execution_count": 1,
   "metadata": {},
   "outputs": [],
   "source": [
    "# FIRST SET UP ENVIRONMENT\n",
    "\n",
    "import sys\n",
    "import os\n",
    "from typing import List\n",
    "import time\n",
    "sys.path.append(os.path.abspath('../..'))\n",
    "\n",
    "from services.service import Service, PublishSubscribe, RemoteService\n",
    "from utils.topics import Topic\n",
    "from services.service import DialogSystem\n",
    "from utils.domain.domain import Domain\n",
    "from utils.logger import DiasysLogger, LogLevel"
   ]
  },
  {
   "cell_type": "markdown",
   "metadata": {},
   "source": [
    "### Creating our First Service\n",
    "\n",
    "For our first service, we are going to make a simple class with a method that subscribes to two input topics, \"A\" and \"B\" and can publish to two output topics: \"C\" and \"D\". The code for this can be seen below:"
   ]
  },
  {
   "cell_type": "code",
   "execution_count": 2,
   "metadata": {},
   "outputs": [],
   "source": [
    "class ConcatenateService(Service):\n",
    "\n",
    "    @PublishSubscribe(sub_topics=[\"A\", \"B\"], pub_topics=[\"C\", \"D\"])\n",
    "    def concatenate(self, A: int = None, B: str = None) -> dict(C=str,D=str):\n",
    "        \"\"\"\n",
    "            A method to concatenate the content of two input topics and conditionally publish to either\n",
    "            topic \"C\" or topic \"D\"\n",
    "            \n",
    "            Args:\n",
    "                A (int): message for topic \"A\"\n",
    "                B (str): message for topic \"B\"\n",
    "            Return:\n",
    "                (dict): dictionary where key is the topic to be published to (conditionally \"C\" or \"D\"\n",
    "                        depending on whether the value of A is 3) and the value is the concatenation\n",
    "                        of inputs A and B\n",
    "        \"\"\"\n",
    "        print(\"CONCATENATING \", A, \"AND \", B)\n",
    "        result = str(A) + \" \" + B\n",
    "        if A == 3:\n",
    "            return {'D': result}\n",
    "        else:\n",
    "            return  {'C': result}"
   ]
  },
  {
   "cell_type": "markdown",
   "metadata": {},
   "source": [
    "**Inheriting from the Service class:**\n",
    "\n",
    "* Any service that wants to send / receive messages in the ADVISER 2.0 system must inherit from `services.service.Service`.\n",
    "This class handles the communication mechanisms between services and makes sure the service is properly registered with the dialog system so that messages are properly delivered to and received by the appropriate services.\n",
    "\n",
    "**Decorating Methods with PublishSubscribe:**\n",
    "\n",
    "* Each service method that should send / receive messages must be decorated with the `services.service.PublishSubscribe` decorator. Let's have a look at the decorator arguments:\n",
    "    * `sub_topics`: a list of topics the method needs as inputs. \n",
    "       * The method will be called as soon as *at least 1 message for each subscribed topic has been received* and in cases where multiple messages for a topic are received,  only the most recent message will be used.\n",
    "       * *Every topic in the sub_topics list, must be also be included as a method argument with the same name*. This allows the system to map message content to method arguments.\n",
    "\n",
    "    * `pub_topics`: a list of topics the function wants to publish messages to.\n",
    "      You don't have to publish anything during a function call, even if you include entries in the `pub_topics` list.\n",
    "      But if you do want to publish a message, make sure:\n",
    "         * *Only publish dictionaries!* Otherwise, the system does not know what topic to send your return values to\n",
    "         * You are free to choose not to publish to all topics declared in *pub_topics*\n",
    "            * In our example, we have the option to publish to topic `C` and to topic `D`, but this method will only to publish to one or the other depending on the message content of `A`\n",
    "         * Dictionary keys must correspond to the topics in the `pub_topics` list"
   ]
  },
  {
   "cell_type": "markdown",
   "metadata": {},
   "source": [
    "**Example:**\n",
    "\n",
    "<img src=\"message_order.png\" width=\"50%\" height=\"50%\"/>\n",
    "\n",
    "Assume the decorated function receives the following input as shown above:\n",
    "\n",
    "   1. `A: 1`\n",
    "   2. `A: 2`\n",
    "   3. `A: 3`\n",
    "   4. `B: \"dropped Messages\"`\n",
    "   \n",
    "       \n",
    "How will the concatenate method be called:\n",
    "* The `concatenate` method will only be called after the fourth message, because this is the first time where at least one message per topic is available (3 messages for `A`, 1 for `B`).\n",
    "* Since only the most recent messages will be used, the function will receive the following input: (`A=3`, `B=\"dropped Messages\"`)\n",
    "* The variable `result` will thus contain the string `3 dropped Messages` and this will be publised to topic `D`\n",
    "* As a note: There are  mechanisms for collecting all messages instead of dropping them, but those will be introduced later."
   ]
  },
  {
   "cell_type": "markdown",
   "metadata": {},
   "source": [
    "### Creating a Second Service\n",
    "\n",
    "Finally, we need a second service which is responsible for generating the messages for topics `A` and `B`. This new service will also be responsible for shutting down the dialog loop when the example is over, by publishing `True` to the topic `DIALOG_END`. This topic is one of the default control message topics and is required to end a dialog. When we create our first dialog system, we will explain this in more detail. For now, let's take a look at our second service:"
   ]
  },
  {
   "cell_type": "code",
   "execution_count": 3,
   "metadata": {},
   "outputs": [],
   "source": [
    "class PrintService(Service):\n",
    "    @PublishSubscribe(sub_topics=[\"D\"], pub_topics=[Topic.DIALOG_END])\n",
    "    def print_d(self, D: str):\n",
    "        \"\"\"\n",
    "            A method which prints the content of topic D and then publishes the end dialog signal\n",
    "            \n",
    "            Args:\n",
    "                D (str): content of topic D, represents the output of the method concatenate\n",
    "            Return:\n",
    "                (dict): key represents the topic DIALOG_END which should be publsihed to with the value True\n",
    "        \"\"\"\n",
    "        print(f\"RECEIVED D={D}\")\n",
    "        return {Topic.DIALOG_END: True}\n",
    "\n",
    "    @PublishSubscribe(sub_topics=[\"start\"])\n",
    "    def turn_start(self, start: bool = True):\n",
    "        \"\"\"\n",
    "            A method to start the example communication, it waits for the signal to start the dialog and\n",
    "            then calls the send_a method three times followed by the send_b method once\n",
    "            \n",
    "            Args:\n",
    "                start (bool): The signal to start the dialog system (will be published by whatever DialogSystem\n",
    "                              object that this class is registered to)\n",
    "        \"\"\"\n",
    "        a = 1\n",
    "        while a < 4:\n",
    "            time.sleep(0.5)\n",
    "            self.send_a(a)\n",
    "            a += 1\n",
    "        time.sleep(0.5)\n",
    "        self.send_b()\n",
    "\n",
    "    @PublishSubscribe(pub_topics=[\"A\"])\n",
    "    def send_a(self, a: int):\n",
    "        \"\"\"\n",
    "            A method to print a given integer a and then publish it to topic \"A\"\n",
    "            \n",
    "            Args:\n",
    "                a (int): the integer to publish to topic \"A\"\n",
    "            Return:\n",
    "                (dict): where the key is \"A\" (topic to publish to) and the value is the given int a\n",
    "        \"\"\"\n",
    "        print(\"SENDING A=\", a)\n",
    "        return {'A': a}\n",
    "\n",
    "    @PublishSubscribe(pub_topics=[\"B\"])\n",
    "    def send_b(self):\n",
    "        \"\"\"\n",
    "            A method to publish \"messages dropped!\" to topic \"B\"\n",
    "            \n",
    "            Return:\n",
    "                (dict): where the key is \"B\" (topic to publish to) and the value is \"messages dropped!\"\n",
    "        \"\"\"        \n",
    "        print(\"SENDING B\")\n",
    "        return {'B': \"messages dropped!\"}\n"
   ]
  },
  {
   "cell_type": "markdown",
   "metadata": {},
   "source": [
    "**print_d():**\n",
    "\n",
    "This method subscribes to the content of topic `D` and when it receives a message, prints the content and publishes a signal to `DIALOG_END` to finish the dialog.\n",
    "\n",
    "**turn_start():**\n",
    "\n",
    "This method is called once it receives a message from the `start` topic. It then sends three messages to topic `A` (by calling `send_a`) and one message to topic `B` (by calling `send_b`).\n",
    "The `sleep` calls are inserted here so we can watch the messages in the correct order (which is otherwise not guaranteed, since this is a multithreaded system). In real applications, such sleep statements are not necessary\n",
    "\n",
    "**send_a():**\n",
    "\n",
    "This method does not subscribe to anything, but publishes a given int `a` to topic `A`\n",
    "\n",
    "**send_b():**\n",
    "\n",
    "This method does not subscribe to anything, but publishes a given string `b` to topic `B`"
   ]
  },
  {
   "cell_type": "markdown",
   "metadata": {},
   "source": [
    "## Instantiating and Shutting Down a Dialog System <a class=\"anchor\" id=\"instantiating\"></a>\n",
    "\n",
    "With these two services, we can test the message behavior we just described. The first step is creating a dialog system and then registering these two services to it.\n",
    "A dialog system is important, because it is responsible for handling synchronization and message passing, registering remote services, and providing debugging functionality.\n",
    "\n",
    "\n",
    "### Creating a New Dialog System\n",
    "To get started, we will create an instance of each of our services and register them with a dialog system by passing them in to the `services` parameter as a list:"
   ]
  },
  {
   "cell_type": "code",
   "execution_count": 4,
   "metadata": {
    "scrolled": true
   },
   "outputs": [],
   "source": [
    "concatenate_service = ConcatenateService()\n",
    "print_service = PrintService()"
   ]
  },
  {
   "cell_type": "code",
   "execution_count": 5,
   "metadata": {},
   "outputs": [],
   "source": [
    "ds = DialogSystem(services=[concatenate_service, print_service], debug_logger=None)"
   ]
  },
  {
   "cell_type": "markdown",
   "metadata": {},
   "source": [
    "**Note:** Because a dialog system also sets up the communications pipelines for each of the services, it is important that you only have one dialog system active at a time. If you try to instantiate a new dialog system without shutting down the previous one, you will get an error as the ports are already in use. You can shut down the dialog system by typing: `ds.shutdown()`"
   ]
  },
  {
   "cell_type": "markdown",
   "metadata": {},
   "source": [
    "## Debugging a Dialog System <a class=\"anchor\" id=\"debugging\"></a>"
   ]
  },
  {
   "cell_type": "markdown",
   "metadata": {},
   "source": [
    "### Checking for Inconsistencies\n",
    "\n",
    "To see if all of our required / offered service topics are actually connected to something, we can check the dialog system for inconsistencies:"
   ]
  },
  {
   "cell_type": "code",
   "execution_count": 6,
   "metadata": {
    "scrolled": true
   },
   "outputs": [
    {
     "name": "stdout",
     "output_type": "stream",
     "text": [
      "\u001b[91m\n",
      "(Potential) Errors (subscribed topics without publishers):\n",
      "  topic: 'start', subscribed to in services: {'PrintService'}\n",
      "\u001b[0m\n",
      "\u001b[93m\n",
      "Warnings (published topics without subscribers):\n",
      "  topic: 'C', published in services: {'ConcatenateService'}\n",
      "  topic: 'dialog_end', published in services: {'PrintService'}\n",
      "\u001b[0m\n"
     ]
    }
   ],
   "source": [
    "ds.print_inconsistencies()"
   ]
  },
  {
   "cell_type": "markdown",
   "metadata": {},
   "source": [
    "Here, we can see that `PrintService` has to receive an external `start`-topic message to be able to function - without that, `turn_start` will never be called. In this case, this is okay because the dialog system can provide this start message, however in a case where we would want start turn to be called multiple times, this would be a problem.\n",
    "Additionally, we publish to topic `C` but no service subscribes to this.\n",
    "\n",
    "\n",
    "As you can see, when your functions are not called as expected, this output might help you track down bugs in your system.\n",
    "\n",
    "If you want to get even more detailed debug output (print all messages and associated topics), you can provide a `utils.logger.DiasysLogger` instance to the `debug_logger` argument of the `DialogSystem` constructor and to the constructor for each service you want to log information from."
   ]
  },
  {
   "cell_type": "markdown",
   "metadata": {},
   "source": [
    "### Displaying the System Graph\n",
    "\n",
    "To get an overview of the system, we can also draw a graph of all services and their connections which is helpful to make sure that all services are connected in the ways that we thought they were. The code for drawing this graph can be seen below:"
   ]
  },
  {
   "cell_type": "code",
   "execution_count": 7,
   "metadata": {},
   "outputs": [
    {
     "data": {
      "image/png": "[encoded data removed]",
      "text/plain": [
       "<IPython.core.display.Image object>"
      ]
     },
     "metadata": {},
     "output_type": "display_data"
    }
   ],
   "source": [
    "ds.draw_system_graph(name='tutorialgraph', show=False) # render image to tutorials/tutorialgraph.gv.png\n",
    "\n",
    "# render image in jupyter notebook\n",
    "from IPython.display import Image \n",
    "display(Image(filename='tutorialgraph.gv.png'))"
   ]
  },
  {
   "cell_type": "markdown",
   "metadata": {},
   "source": [
    "You can see in the system graph that `PrintService` needs an outside message to a `start` topic (which in turn triggers the counter for $a=1,\\dots,3$).\n",
    "Both topics, `A` and `B`, are published by `PrintService` and subscribed to by `ConcatenateService`.\n",
    "Similarly, `ConcatenateService` publishes to topic `C` and `D`, where `D` is subscribed to by `PrintService`.\n",
    "\n",
    "`C` however is published but never subscribed to - which is shown by the arrow from `ConcatenateService` to the `UNCONNECTED SERVICES` node in the dialog graph."
   ]
  },
  {
   "cell_type": "markdown",
   "metadata": {},
   "source": [
    "### Logging\n",
    "\n",
    "In order to debug more effectively, ADVISER 2.0 also comes with logging functionality through the class `utils.logger.DiasysLogger`. The logger has the option to log to the console and/or to a file with the following log levels:\n",
    "* NONE: No information will be logged\n",
    "* RESULTS: Summary information will be logged about the success rate/# of turns after an epoch of training/testing\n",
    "* DIALOGS: All user/system utterances and summary statistics\n",
    "\n",
    "The logger can be passed to any of the modules, to log that module's output, however when passed to the dialog system itself, the logger will additionally be able to log any messages sent through and all received by the dialog system - including the message's topic and content.\n",
    "\n",
    "A DiasysLogger can be instantiated as below:"
   ]
  },
  {
   "cell_type": "code",
   "execution_count": 8,
   "metadata": {},
   "outputs": [],
   "source": [
    "# create logger to log everything to a file\n",
    "logger = DiasysLogger(console_log_lvl=LogLevel.NONE, file_log_lvl=LogLevel.DIALOGS)"
   ]
  },
  {
   "cell_type": "markdown",
   "metadata": {},
   "source": [
    "And passed to a dialog system to log all message communication by passing it in with the `debug_logger` parameter on instantiation."
   ]
  },
  {
   "cell_type": "code",
   "execution_count": 9,
   "metadata": {},
   "outputs": [],
   "source": [
    "#ds = DialogSystem(services=[concatenate_service, print_service], debug_logger=logger)"
   ]
  },
  {
   "cell_type": "markdown",
   "metadata": {},
   "source": [
    "## Running a Dialog <a class=\"anchor\" id=\"running\"></a>\n",
    "To start a new dialog you can call the `DialogSystem` object's `run_dialog` method. When doing this, it is important to specify a `start_signal` in the form of a dictionary where keys are the topics the signal will be published to and values are the message content to be published.\n",
    "We need an external signal because the `run_dialog` method is blocking and no function calls after `run_dialog` will be executed until the dialog sends an exit signal. Therefore, the start signal is an external one time message (or multiple messages) which kickstart the normal dialog loop. In our case, the start signal is to publish to the `start` topic and since the value of this is never used, we simply set it to `True`."
   ]
  },
  {
   "cell_type": "code",
   "execution_count": 10,
   "metadata": {},
   "outputs": [
    {
     "name": "stdout",
     "output_type": "stream",
     "text": [
      "SENDING A= 1\n",
      "SENDING A= 2\n",
      "SENDING A= 3\n",
      "SENDING B\n",
      "CONCATENATING  3 AND  messages dropped!\n",
      "RECEIVED D=3 messages dropped!\n"
     ]
    }
   ],
   "source": [
    "ds.run_dialog(start_signals={'start': True})\n",
    "ds.shutdown()"
   ]
  },
  {
   "cell_type": "markdown",
   "metadata": {},
   "source": [
    "... And we get exactly the output described in the previous section!\n",
    "`concatenate` was only called after a message from both topics, `A` and `B`, arrived - and since `A` received multiple messages before `B`, those messages were dropped so only one concatenated string is printed.\n",
    "\n",
    "Since the dialog system loop is blocking for a whole dialog, it is very important to make sure there is an end condition to close the loop (i.e. publishing `True` to the topic `DIALOG_END`). If none of our services did this,\n",
    "this notebook code would be stuck after calling the `run_dialog` and no new code could be executed. To prove this is not the case, try running the code cell below :)"
   ]
  },
  {
   "cell_type": "code",
   "execution_count": 11,
   "metadata": {},
   "outputs": [
    {
     "name": "stdout",
     "output_type": "stream",
     "text": [
      "Not stuck in a dialog loop!\n"
     ]
    }
   ],
   "source": [
    "print(\"Not stuck in a dialog loop!\")"
   ]
  },
  {
   "cell_type": "code",
   "execution_count": null,
   "metadata": {},
   "outputs": [],
   "source": []
  }
 ],
 "metadata": {
  "file_extension": ".py",
  "kernelspec": {
   "display_name": "Python 3.8.1 64-bit ('adviser_demonstration': conda)",
   "language": "python",
   "name": "python38164bitadviserdemonstrationcondac88a7d10482147c9a6312e4b872b1265"
  },
  "language_info": {
   "codemirror_mode": {
    "name": "ipython",
    "version": 3
   },
   "file_extension": ".py",
   "mimetype": "text/x-python",
   "name": "python",
   "nbconvert_exporter": "python",
   "pygments_lexer": "ipython3",
   "version": "3.8.1"
  },
  "mimetype": "text/x-python",
  "name": "python",
  "npconvert_exporter": "python",
  "pygments_lexer": "ipython3",
  "version": 3
 },
 "nbformat": 4,
 "nbformat_minor": 2
}
